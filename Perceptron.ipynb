{
  "nbformat": 4,
  "nbformat_minor": 0,
  "metadata": {
    "colab": {
      "provenance": [],
      "authorship_tag": "ABX9TyPmsnUJOXm11Iy16OXUhH7y"
    },
    "kernelspec": {
      "name": "python3",
      "display_name": "Python 3"
    },
    "language_info": {
      "name": "python"
    }
  },
  "cells": [
    {
      "cell_type": "code",
      "source": [
        "import numpy as np"
      ],
      "metadata": {
        "id": "1rTXuXt5MptX"
      },
      "execution_count": 84,
      "outputs": []
    },
    {
      "cell_type": "code",
      "source": [
        "valores1 = np.array([1,2,3])\n",
        "pesos1 = np.array([0.1,0.2,0.3])"
      ],
      "metadata": {
        "id": "ZB2ILBDQQgr5"
      },
      "execution_count": 88,
      "outputs": []
    },
    {
      "cell_type": "code",
      "execution_count": 92,
      "metadata": {
        "id": "WC3No4hx_amB"
      },
      "outputs": [],
      "source": [
        "def degrau(somatorio):\n",
        "  if (somatorio >= 1):\n",
        "    return 1\n",
        "  return 0"
      ]
    },
    {
      "cell_type": "code",
      "source": [
        "def somatorio(v,p):\n",
        "  return v.dot(p)"
      ],
      "metadata": {
        "id": "lCRY-B2OKm2x"
      },
      "execution_count": 90,
      "outputs": []
    },
    {
      "cell_type": "code",
      "source": [
        "s = somatorio(valores1, pesos1)\n",
        "d = degrau(s)\n",
        "print(s)\n",
        "print(d)"
      ],
      "metadata": {
        "id": "qC8ZqyiNK4sA"
      },
      "execution_count": null,
      "outputs": []
    },
    {
      "cell_type": "markdown",
      "source": [
        "--------------------------------------------------------------------------------"
      ],
      "metadata": {
        "id": "AGYchepiL6Vk"
      }
    },
    {
      "cell_type": "code",
      "source": [
        "valores2 = np.array([-1,5,0.2])\n",
        "pesos2 = np.array([0.11,-0.2,4])\n",
        "b = 1.25"
      ],
      "metadata": {
        "id": "_yZJbJvURivi"
      },
      "execution_count": 123,
      "outputs": []
    },
    {
      "cell_type": "code",
      "source": [
        "def somatorio(v,p):\n",
        "  return v.dot(p)"
      ],
      "metadata": {
        "id": "aNcFLWwfL790"
      },
      "execution_count": 125,
      "outputs": []
    },
    {
      "cell_type": "code",
      "source": [
        "def sigmoide(somatorio):\n",
        "  return 1/(1+np.exp(-b*somatorio))"
      ],
      "metadata": {
        "id": "_IcAfN_HMTlO"
      },
      "execution_count": 126,
      "outputs": []
    },
    {
      "cell_type": "code",
      "source": [
        "s = somatorio(valores2,pesos2)\n",
        "sigma = sigmoide(s)\n",
        "print(sigma)\n",
        "print(s)"
      ],
      "metadata": {
        "colab": {
          "base_uri": "https://localhost:8080/"
        },
        "id": "8QDL4khINJ8L",
        "outputId": "165ca807-465e-4fb2-aedd-4d54be2ee003"
      },
      "execution_count": 127,
      "outputs": [
        {
          "output_type": "stream",
          "name": "stdout",
          "text": [
            "0.4043192693921528\n",
            "-0.31000000000000005\n"
          ]
        }
      ]
    }
  ]
}